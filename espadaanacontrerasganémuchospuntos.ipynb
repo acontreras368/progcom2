{
  "nbformat": 4,
  "nbformat_minor": 0,
  "metadata": {
    "colab": {
      "provenance": []
    },
    "kernelspec": {
      "name": "python3",
      "display_name": "Python 3"
    },
    "language_info": {
      "name": "python"
    }
  },
  "cells": [
    {
      "cell_type": "code",
      "execution_count": 1,
      "metadata": {
        "id": "iTyasqiTE99o"
      },
      "outputs": [],
      "source": [
        "class Espadas():\n",
        "  nombre=\"Soy una espada\"\n",
        "  daño=\"Causo daño\"\n",
        "  def __init__(self,nombre,daño):\n",
        "    self.nombre=nombre\n",
        "    self.daño=daño\n",
        "    \n",
        "  def __repr__(self):\n",
        "     return f\"espada de: {self.nombre}, y causa:{self.daño} de daño\"\n"
      ]
    },
    {
      "cell_type": "code",
      "source": [
        "class Espada_elemental(Espadas):\n",
        "  def masatributos(self,elemento,tamaño,durabilidad,color,sabor,olor,marca):\n",
        "    self.elemento=elemento\n",
        "    self.tamaño=tamaño\n",
        "    self.durabilidad=durabilidad\n",
        "    self.color=color\n",
        "    self.sabor=sabor\n",
        "    self.olor=olor\n",
        "    self.marca=marca\n"
      ],
      "metadata": {
        "id": "IZmy926HGqC2"
      },
      "execution_count": 30,
      "outputs": []
    },
    {
      "cell_type": "code",
      "source": [
        "espada1=Espada_elemental(\"Espada de fuego\",200)#atributos clase madre\n"
      ],
      "metadata": {
        "id": "PawOCuObH56B"
      },
      "execution_count": 31,
      "outputs": []
    },
    {
      "cell_type": "code",
      "source": [
        "print(espada1)"
      ],
      "metadata": {
        "colab": {
          "base_uri": "https://localhost:8080/"
        },
        "id": "qMvYtwrfJSeH",
        "outputId": "32c0ea27-2945-49a5-9f2a-3ec0ef03da42"
      },
      "execution_count": 32,
      "outputs": [
        {
          "output_type": "stream",
          "name": "stdout",
          "text": [
            "espada de: Espada de fuego, y causa:200 de daño\n"
          ]
        }
      ]
    },
    {
      "cell_type": "code",
      "source": [
        "espada1.masatributos(\"fuego\",25,10,\"Morado y turquesa\",\"dulce\",\"hierro\",\"gucci\")#atributos clase hija"
      ],
      "metadata": {
        "id": "GYNHMoJ2Jlof"
      },
      "execution_count": 33,
      "outputs": []
    },
    {
      "cell_type": "code",
      "source": [
        "espada1.__dict__ #nombre y daño heredados de la clase madre"
      ],
      "metadata": {
        "colab": {
          "base_uri": "https://localhost:8080/"
        },
        "id": "Ezk-7UcFKFn_",
        "outputId": "ba91aacf-3923-40ed-8f74-065aa48d35f6"
      },
      "execution_count": 34,
      "outputs": [
        {
          "output_type": "execute_result",
          "data": {
            "text/plain": [
              "{'nombre': 'Espada de fuego',\n",
              " 'daño': 200,\n",
              " 'elemento': 'fuego',\n",
              " 'tamaño': 25,\n",
              " 'durabilidad': 10,\n",
              " 'color': 'Morado y turquesa',\n",
              " 'sabor': 'dulce',\n",
              " 'olor': 'hierro',\n",
              " 'marca': 'gucci'}"
            ]
          },
          "metadata": {},
          "execution_count": 34
        }
      ]
    }
  ]
}