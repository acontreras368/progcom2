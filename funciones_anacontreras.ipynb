{
  "nbformat": 4,
  "nbformat_minor": 0,
  "metadata": {
    "colab": {
      "provenance": []
    },
    "kernelspec": {
      "name": "python3",
      "display_name": "Python 3"
    },
    "language_info": {
      "name": "python"
    }
  },
  "cells": [
    {
      "cell_type": "markdown",
      "source": [
        "\n",
        "def (nombre cualquiera) (parámetros o argumentos):\n",
        "\n",
        "lo que va dentro de la funcion\n",
        "\n"
      ],
      "metadata": {
        "id": "3JARfs2K0ySH"
      }
    },
    {
      "cell_type": "markdown",
      "source": [
        "tipos de funciones:\n",
        "1. sin parametros, sin retorno\n",
        "\n",
        "                           def manuel():\n",
        "\n",
        "                                   print (\"toma tus 5\")\n",
        "2. sin parámetros, con retorno\n",
        "\n",
        "                                  def nicolas():\n",
        "\n",
        "                           print (\"Hola nico\")\n",
        "\n",
        "                    a=5\n",
        "\n",
        "                        return a\n",
        "3. con parámetros, sin retorno\n",
        "\n",
        "                             def hol(a,\"b\",x=false):\n",
        "\n",
        "                                           int a\n",
        "\n",
        "                              b=string\n",
        "\n",
        "                     x=boolean\n",
        "\n",
        "                      print(\"hola nico\")\n",
        "\n",
        "                      a=5\n",
        "4. con parámetros , con retorno\n",
        "                          def hol(a,\"b\",x=false):\n",
        "\n",
        "                         int a\n",
        "\n",
        "                         b=string\n",
        "\n",
        "                          x=boolean\n",
        "\n",
        "                        print(\"hola nico\")\n",
        "\n",
        "                         a=5\n",
        "\n",
        "                              return a\n"
      ],
      "metadata": {
        "id": "meXewEEY1ArK"
      }
    },
    {
      "cell_type": "code",
      "source": [
        "def salude():\n",
        "  print(\"Saludar\")\n",
        "  print(\"Es de cracks\")\n",
        "salude()"
      ],
      "metadata": {
        "colab": {
          "base_uri": "https://localhost:8080/"
        },
        "id": "yOMfv6RE39Nf",
        "outputId": "eea142d9-8a09-4f41-b8d7-6826505f8d72"
      },
      "execution_count": null,
      "outputs": [
        {
          "output_type": "stream",
          "name": "stdout",
          "text": [
            "Saludar\n",
            "Es de cracks\n"
          ]
        }
      ]
    },
    {
      "cell_type": "code",
      "source": [
        "a=int(input(\"ingrese un número \"))\n",
        "b=int(input(\"ingrese un número \"))\n",
        "c=int(input(\"ingrese un número \"))\n",
        "\n",
        "if a !=b and a!=c and b!=c:\n",
        "  if a>b and a>c:\n",
        "    if b>c:\n",
        "      print(a,\"es el mayor\")\n",
        "      print(b,\"es el mayor medio\")\n",
        "      print(c,\"es el menor\")\n",
        "    else:\n",
        "      print(a,\"es el mayor\")\n",
        "      print(c,\"es el mayor medio\")\n",
        "      print(b,\"es el menor\")\n",
        "  elif b>a and b>c:\n",
        "    if a>c: \n",
        "      print(b,\"es el mayor\")\n",
        "      print(a,\"es el mayor medio\")\n",
        "      print(c,\"es el menor\")\n",
        "    else:\n",
        "      print(b,\"es el mayor\")\n",
        "      print(c,\"es el mayor medio\")\n",
        "      print(a,\"es el menor\")\n",
        "  if c>a and c>b:\n",
        "    if a>b:\n",
        "      print(c,\"es el mayor\")\n",
        "      print(a,\"es el mayor medio\")\n",
        "      print(b,\"es el menor\")\n",
        "    else:\n",
        "      print(c,\"es el mayor\")\n",
        "      print(b,\"es el mayor medio\")\n",
        "      print(a,\"es el menor\")\n",
        "else:\n",
        "  print(\"no se puede hacer el cálculo\")\n"
      ],
      "metadata": {
        "colab": {
          "base_uri": "https://localhost:8080/"
        },
        "id": "pkZsJPSA5GpU",
        "outputId": "ab756aa2-d8c9-4aef-a243-4b985f69f6a8"
      },
      "execution_count": null,
      "outputs": [
        {
          "output_type": "stream",
          "name": "stdout",
          "text": [
            "ingrese un número 1\n",
            "ingrese un número 2\n",
            "ingrese un número 3\n",
            "3 es el mayor\n",
            "2 es el mayor medio\n",
            "1 es el menor\n"
          ]
        }
      ]
    },
    {
      "cell_type": "code",
      "source": [
        "def imprimir(a,b,c):\n",
        "  print(a,\"es el mayor\")\n",
        "  print(b,\"es el mayor medio\")\n",
        "  print(c,\"es el menor\")\n",
        "  "
      ],
      "metadata": {
        "id": "sAXwTmHk-_KJ"
      },
      "execution_count": null,
      "outputs": []
    },
    {
      "cell_type": "code",
      "source": [
        "def comparar (a,b,c):\n",
        "  if a !=b and a!=c and b!=c:\n",
        "    if a>b and a>c:\n",
        "      if b>c:\n",
        "        imprimir(a,b,c)\n",
        "    else:\n",
        "      imprimir(a,c,b)\n",
        "  elif b>a and b>c:\n",
        "    if a>c: \n",
        "      imprimir(b,a,c)\n",
        "    else:\n",
        "      imprimir(b,c,a)\n",
        "  if c>a and c>b:\n",
        "    if a>b:\n",
        "      imprimir(c,a,b)\n",
        "    else:\n",
        "     imprimir(c,b,a)\n",
        "  else:\n",
        "    print(\"no se puede hacer el cálculo\")"
      ],
      "metadata": {
        "id": "aHD6eDJBAvBJ"
      },
      "execution_count": null,
      "outputs": []
    },
    {
      "cell_type": "code",
      "source": [
        "a=int(input(\"Escriba un número\"))\n",
        "b=int(input(\"Escriba un número\"))\n",
        "c=int(input(\"Escriba un número\"))\n",
        "\n",
        "comparar(c,b,a)\n"
      ],
      "metadata": {
        "colab": {
          "base_uri": "https://localhost:8080/"
        },
        "id": "eXXiNmmb_EUa",
        "outputId": "9faaafd9-1b9d-4b56-dc67-7afa2a2cf226"
      },
      "execution_count": null,
      "outputs": [
        {
          "output_type": "stream",
          "name": "stdout",
          "text": [
            "Escriba un número1\n",
            "Escriba un número2\n",
            "Escriba un número3\n",
            "3 es el mayor\n",
            "2 es el mayor medio\n",
            "1 es el menor\n",
            "no se puede hacer el cálculo\n"
          ]
        }
      ]
    },
    {
      "cell_type": "code",
      "source": [
        "entrada=str(input(\"Digita algo: \"))\n",
        "def vocalconso ():\n",
        "  if entrada in ('a','e','i','o','u'):\n",
        "    print(\"La entrada es una vocal\")\n",
        "  else:\n",
        "    print(\"La entrada es una consonante\") \n",
        "    \n",
        "vocalconso()"
      ],
      "metadata": {
        "id": "4FJxeQP4EgMV",
        "colab": {
          "base_uri": "https://localhost:8080/"
        },
        "outputId": "5c9682cf-2fb4-45c0-ad92-69771403e1a8"
      },
      "execution_count": 27,
      "outputs": [
        {
          "output_type": "stream",
          "name": "stdout",
          "text": [
            "Digita algo: t\n",
            "La entrada es una consonante\n"
          ]
        }
      ]
    }
  ]
}