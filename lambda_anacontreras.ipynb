{
  "nbformat": 4,
  "nbformat_minor": 0,
  "metadata": {
    "colab": {
      "provenance": [],
      "collapsed_sections": []
    },
    "kernelspec": {
      "name": "python3",
      "display_name": "Python 3"
    },
    "language_info": {
      "name": "python"
    }
  },
  "cells": [
    {
      "cell_type": "markdown",
      "source": [
        "Funciones pequeñas de fácil acceso y rápidas\n",
        "\n",
        "Puede tener varios argumentos PERO SOLO 1 FUNCIÓN\n",
        "\n",
        "lamba(parámetro): expersión"
      ],
      "metadata": {
        "id": "18eCBYwU9b9e"
      }
    },
    {
      "cell_type": "code",
      "source": [
        "lista=[3,9,8,7]\n",
        "lista2=[n**2 for n in lista]\n",
        "lista2"
      ],
      "metadata": {
        "colab": {
          "base_uri": "https://localhost:8080/"
        },
        "id": "lflWTug4-NJX",
        "outputId": "6bccedbe-06db-4f6b-8721-950e133ca759"
      },
      "execution_count": null,
      "outputs": [
        {
          "output_type": "execute_result",
          "data": {
            "text/plain": [
              "[9, 81, 64, 49]"
            ]
          },
          "metadata": {},
          "execution_count": 1
        }
      ]
    },
    {
      "cell_type": "code",
      "source": [
        "lambda2=lambda x,y:x**y\n",
        "lambda2(2,4)"
      ],
      "metadata": {
        "colab": {
          "base_uri": "https://localhost:8080/"
        },
        "id": "RuHn-bI3-yPZ",
        "outputId": "44578a2f-0217-4fbd-fa6a-df0625e10342"
      },
      "execution_count": null,
      "outputs": [
        {
          "output_type": "execute_result",
          "data": {
            "text/plain": [
              "16"
            ]
          },
          "metadata": {},
          "execution_count": 3
        }
      ]
    },
    {
      "cell_type": "code",
      "source": [
        "lambda3=lambda num: True if num**2>=0 else False\n",
        "lambda3(4)"
      ],
      "metadata": {
        "colab": {
          "base_uri": "https://localhost:8080/"
        },
        "id": "bVKiP6X4BEFB",
        "outputId": "c715abf1-4c76-409d-b733-d854c95d2fcc"
      },
      "execution_count": null,
      "outputs": [
        {
          "output_type": "execute_result",
          "data": {
            "text/plain": [
              "True"
            ]
          },
          "metadata": {},
          "execution_count": 5
        }
      ]
    },
    {
      "cell_type": "code",
      "source": [
        "lambda3(3)"
      ],
      "metadata": {
        "colab": {
          "base_uri": "https://localhost:8080/"
        },
        "id": "pR5XV37bBcv2",
        "outputId": "f284b0eb-75d7-41da-8ac7-3b90ddb247c8"
      },
      "execution_count": null,
      "outputs": [
        {
          "output_type": "execute_result",
          "data": {
            "text/plain": [
              "True"
            ]
          },
          "metadata": {},
          "execution_count": 6
        }
      ]
    },
    {
      "cell_type": "markdown",
      "source": [
        "funciones de orden superior\n",
        "map(una_funcion,una_lista)"
      ],
      "metadata": {
        "id": "i-XjtiHyGeo5"
      }
    },
    {
      "cell_type": "code",
      "source": [
        "cuadrados=[]\n",
        "for i in lista:\n",
        "  cuadrados.append(i**2)\n",
        "print (cuadrados)"
      ],
      "metadata": {
        "colab": {
          "base_uri": "https://localhost:8080/"
        },
        "id": "6M4u9xedHJqW",
        "outputId": "dd6a397f-1c81-469a-bbcd-524e8e9293b7"
      },
      "execution_count": 22,
      "outputs": [
        {
          "output_type": "stream",
          "name": "stdout",
          "text": [
            "[1, 16, 81, 256]\n"
          ]
        }
      ]
    },
    {
      "cell_type": "code",
      "source": [
        "cuadrado2=[x**2 for x in lista]\n",
        "cuadrado2"
      ],
      "metadata": {
        "colab": {
          "base_uri": "https://localhost:8080/"
        },
        "id": "rMRYTWgEIcGQ",
        "outputId": "978b7494-2525-4c8d-9b2b-bd72ccef9530"
      },
      "execution_count": 23,
      "outputs": [
        {
          "output_type": "execute_result",
          "data": {
            "text/plain": [
              "[1, 16, 81, 256]"
            ]
          },
          "metadata": {},
          "execution_count": 23
        }
      ]
    },
    {
      "cell_type": "code",
      "source": [
        "cuadrado3=list(map(lambda x:x**2,lista))\n",
        "cuadrado3"
      ],
      "metadata": {
        "colab": {
          "base_uri": "https://localhost:8080/"
        },
        "id": "rome-QYHIpuv",
        "outputId": "e708928d-716b-4971-da4a-d26df463f9f8"
      },
      "execution_count": 25,
      "outputs": [
        {
          "output_type": "execute_result",
          "data": {
            "text/plain": [
              "[1, 16, 81, 256]"
            ]
          },
          "metadata": {},
          "execution_count": 25
        }
      ]
    },
    {
      "cell_type": "markdown",
      "source": [
        "filter filtra\n",
        "\n",
        "devuelve true\n",
        "\n",
        "filter(una_función,una_lista)"
      ],
      "metadata": {
        "id": "woPPlsvNJ1Bd"
      }
    },
    {
      "cell_type": "code",
      "source": [
        "valores=[num for num in range(1,10)]\n",
        "pares=[]\n",
        "for valor in valores:\n",
        "  if valor%2==0:\n",
        "    pares.append(valor)\n",
        "print(pares)"
      ],
      "metadata": {
        "colab": {
          "base_uri": "https://localhost:8080/"
        },
        "id": "WS8b6co5J0Os",
        "outputId": "ad6d7096-22f8-480f-9fc3-8a0d1fe23fba"
      },
      "execution_count": 27,
      "outputs": [
        {
          "output_type": "stream",
          "name": "stdout",
          "text": [
            "[2, 4, 6, 8]\n"
          ]
        }
      ]
    },
    {
      "cell_type": "code",
      "source": [
        "valor2=[lol for lol in valores if lol%2==0]\n",
        "valor2"
      ],
      "metadata": {
        "colab": {
          "base_uri": "https://localhost:8080/"
        },
        "id": "E5gwQxNxLHNt",
        "outputId": "4d831095-087d-4aaa-e77b-1515feaa5b67"
      },
      "execution_count": 28,
      "outputs": [
        {
          "output_type": "execute_result",
          "data": {
            "text/plain": [
              "[2, 4, 6, 8]"
            ]
          },
          "metadata": {},
          "execution_count": 28
        }
      ]
    },
    {
      "cell_type": "code",
      "source": [
        "valor3=list(filter(lambda julito: julito%2==0,valores))\n",
        "valor3"
      ],
      "metadata": {
        "colab": {
          "base_uri": "https://localhost:8080/"
        },
        "id": "xX4tEd2VLYDM",
        "outputId": "e38b96d1-da81-463d-ddb3-6ac8d3fed83e"
      },
      "execution_count": 31,
      "outputs": [
        {
          "output_type": "execute_result",
          "data": {
            "text/plain": [
              "[2, 4, 6, 8]"
            ]
          },
          "metadata": {},
          "execution_count": 31
        }
      ]
    },
    {
      "cell_type": "markdown",
      "source": [
        "reduce:\n",
        "\n",
        "reduce es un acumulador\n",
        "\n",
        "importar functools\n",
        "\n",
        "from functools import reduce\n",
        "\n"
      ],
      "metadata": {
        "id": "8qniiwX9MG9T"
      }
    },
    {
      "cell_type": "code",
      "source": [
        "from functools import reduce\n",
        "def suma(lista):\n",
        "  suma=0\n",
        "  for i in lista:\n",
        "    suma+=i #suma=suma+i\n",
        "  return suma\n",
        "print(suma(valores))"
      ],
      "metadata": {
        "colab": {
          "base_uri": "https://localhost:8080/"
        },
        "id": "LxIUFD8EMPiJ",
        "outputId": "c1fcefc3-7020-4750-d6e6-dac56752c4c2"
      },
      "execution_count": 33,
      "outputs": [
        {
          "output_type": "stream",
          "name": "stdout",
          "text": [
            "45\n"
          ]
        }
      ]
    },
    {
      "cell_type": "code",
      "source": [
        "suma1=reduce(lambda x,y:x+y,valores)\n",
        "suma1"
      ],
      "metadata": {
        "colab": {
          "base_uri": "https://localhost:8080/"
        },
        "id": "htqAYMxHODqj",
        "outputId": "78497eab-9af1-4072-b82b-97f13f880b93"
      },
      "execution_count": 34,
      "outputs": [
        {
          "output_type": "execute_result",
          "data": {
            "text/plain": [
              "45"
            ]
          },
          "metadata": {},
          "execution_count": 34
        }
      ]
    }
  ]
}