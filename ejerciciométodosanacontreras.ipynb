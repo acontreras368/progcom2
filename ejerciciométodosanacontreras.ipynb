{
  "nbformat": 4,
  "nbformat_minor": 0,
  "metadata": {
    "colab": {
      "provenance": [],
      "collapsed_sections": []
    },
    "kernelspec": {
      "name": "python3",
      "display_name": "Python 3"
    },
    "language_info": {
      "name": "python"
    }
  },
  "cells": [
    {
      "cell_type": "code",
      "source": [
        "def Perfecto(num):\n",
        "\tsuma = 0\n",
        "\tfor i in range(1,num):\n",
        "\t\tif (num % (i) == 0):\n",
        "\t\t\tsuma += (i)\n",
        "\tif num == suma:\n",
        "\t\treturn True\n",
        "\telse:\n",
        "\t\treturn False\n",
        " \n",
        "num = int(input(\"Digita un número: \"))\n",
        "if Perfecto(num):\n",
        "\tprint(f\"{num} es un numero perfecto\")\n",
        "else:\n",
        "\tprint(f\"{num} NO es un numero perfecto\" )"
      ],
      "metadata": {
        "colab": {
          "base_uri": "https://localhost:8080/"
        },
        "id": "mAB6IrN03wkY",
        "outputId": "8f04b2c1-b8b1-4b52-fa3b-bccd3b38e5c9"
      },
      "execution_count": 53,
      "outputs": [
        {
          "output_type": "stream",
          "name": "stdout",
          "text": [
            "Digita un número: 6\n",
            "6 es un numero perfecto\n"
          ]
        }
      ]
    },
    {
      "cell_type": "code",
      "execution_count": 23,
      "metadata": {
        "colab": {
          "base_uri": "https://localhost:8080/"
        },
        "id": "xXo1YBZYlLSz",
        "outputId": "bca13329-5d91-4d4f-ee90-c936eeab5e4e"
      },
      "outputs": [
        {
          "output_type": "stream",
          "name": "stdout",
          "text": [
            "Escriba un número5\n",
            "Escriba un número7\n",
            "El número mayor es  7\n"
          ]
        }
      ],
      "source": [
        "a=int(input(\"Escriba un número\"))\n",
        "b=int(input(\"Escriba un número\"))\n",
        "\n",
        "def nmayor(a,b):\n",
        "  if a>b:\n",
        "    print(\"El número mayor es \",a)\n",
        "  else:\n",
        "    print(\"El número mayor es \",b)\n",
        "  \n",
        "nmayor(a,b)\n"
      ]
    },
    {
      "cell_type": "code",
      "source": [
        "print(\"¡Hola!\")\n",
        "print(\"Con este programa podrás saber si la palabra que digites es palíndroma o no\")\n",
        "pa= str(input())\n",
        "def pali():\n",
        "  if (pa) == (pa)[::-1] :\n",
        "    print(\"La palabra \" f\"{pa}\" \" es palíndroma\")\n",
        "  else:\n",
        "    print(\"La palbra \" f\"{pa}\" \" no es palíndroma\")\n",
        "pali()"
      ],
      "metadata": {
        "id": "6FijJ01z2IVO"
      },
      "execution_count": null,
      "outputs": []
    },
    {
      "cell_type": "code",
      "source": [
        "A=int(input(\"ingrese un número\\n\"))\n",
        "B=int(input(\"ingrese otro número\\n\"))\n",
        "C=int(input(\"ingrese un número\\n\"))\n",
        "def comp(A,B,C):\n",
        "  if(A > B and A > C):\n",
        "    print(\"El numero mayor es \" + str(A))\n",
        "  else:\n",
        "    if(B > A and B > C):\n",
        "      print(\"El numero mayor es \" + str(B))\n",
        "    else:\n",
        "      print(\"El numero mayor es \" + str(C))\n",
        "comp(A,B,C)"
      ],
      "metadata": {
        "colab": {
          "base_uri": "https://localhost:8080/"
        },
        "id": "dVAGLohatOHX",
        "outputId": "69ae1f21-7c31-4504-897e-f60a81835733"
      },
      "execution_count": 28,
      "outputs": [
        {
          "output_type": "stream",
          "name": "stdout",
          "text": [
            "ingrese un numero\n",
            "1\n",
            "ingrese otro numero\n",
            "2\n",
            "ingrese un nuemero\n",
            "3\n",
            "El numero mayor es 3\n"
          ]
        }
      ]
    },
    {
      "cell_type": "code",
      "source": [
        "lista=[1,3,5]\n",
        "def suma():\n",
        "  sum(lista)\n",
        "  print(sum(lista))\n",
        "suma()\n"
      ],
      "metadata": {
        "colab": {
          "base_uri": "https://localhost:8080/"
        },
        "id": "pZUUaHoHuRyv",
        "outputId": "29763b21-5d00-47e0-a616-1589b3e8d2e9"
      },
      "execution_count": 30,
      "outputs": [
        {
          "output_type": "stream",
          "name": "stdout",
          "text": [
            "9\n"
          ]
        }
      ]
    },
    {
      "cell_type": "code",
      "source": [
        "lista2=[1,3,5,6]\n",
        "def suma2():\n",
        "  sum(lista2)\n",
        "  print(sum(lista2))\n",
        "suma2()"
      ],
      "metadata": {
        "colab": {
          "base_uri": "https://localhost:8080/"
        },
        "id": "YlB3iG3QvKuW",
        "outputId": "9fc5e885-33b2-4264-c296-5ed5084ff256"
      },
      "execution_count": 32,
      "outputs": [
        {
          "output_type": "stream",
          "name": "stdout",
          "text": [
            "15\n"
          ]
        }
      ]
    },
    {
      "cell_type": "code",
      "source": [
        "lista3=[1,3,5,6,10]\n",
        "def suma3():\n",
        "  sum(lista3)\n",
        "  print(sum(lista3))\n",
        "suma3()"
      ],
      "metadata": {
        "colab": {
          "base_uri": "https://localhost:8080/"
        },
        "id": "F6ugjywXvgyk",
        "outputId": "9d35144b-0bed-49c0-e46c-feb1a4b82ba7"
      },
      "execution_count": 33,
      "outputs": [
        {
          "output_type": "stream",
          "name": "stdout",
          "text": [
            "25\n"
          ]
        }
      ]
    },
    {
      "cell_type": "code",
      "source": [
        "lista4=[1,3,5]\n",
        "def mul():\n",
        "  multi=lista4[0]*lista4[1]*lista4[2]\n",
        "  print(multi)\n",
        "mul()"
      ],
      "metadata": {
        "colab": {
          "base_uri": "https://localhost:8080/"
        },
        "id": "kv1pPX4lvmus",
        "outputId": "231b609e-fff6-4aa3-f3eb-5855c18fd0e0"
      },
      "execution_count": 36,
      "outputs": [
        {
          "output_type": "stream",
          "name": "stdout",
          "text": [
            "15\n"
          ]
        }
      ]
    },
    {
      "cell_type": "code",
      "source": [
        "lista5=[1,3,5,7]\n",
        "def mul2():\n",
        "  multi2=lista5[0]*lista5[1]*lista5[2]*lista5[3]\n",
        "  print(multi2)\n",
        "mul2()"
      ],
      "metadata": {
        "colab": {
          "base_uri": "https://localhost:8080/"
        },
        "id": "3eeHTJ9ewLlz",
        "outputId": "f56d7931-aa7d-4f63-8172-ebd4c824e4ed"
      },
      "execution_count": 39,
      "outputs": [
        {
          "output_type": "stream",
          "name": "stdout",
          "text": [
            "105\n"
          ]
        }
      ]
    },
    {
      "cell_type": "code",
      "source": [
        "lista6=[1,3,5,7,9]\n",
        "def mul3():\n",
        "  multi2=lista6[0]*lista6[1]*lista6[2]*lista6[3]*lista6[4]\n",
        "  print(multi2)\n",
        "mul3()"
      ],
      "metadata": {
        "colab": {
          "base_uri": "https://localhost:8080/"
        },
        "id": "Yb3Lo_uYwVHy",
        "outputId": "e3233b78-279a-481b-f166-6b6459992a9b"
      },
      "execution_count": 40,
      "outputs": [
        {
          "output_type": "stream",
          "name": "stdout",
          "text": [
            "945\n"
          ]
        }
      ]
    },
    {
      "cell_type": "code",
      "source": [
        "palabra='comida'\n",
        "def invertir():\n",
        "  invert=palabra[5]+palabra[4]+palabra[3]+palabra[2]+palabra[1]+palabra[0]\n",
        "  print(invert)\n",
        "invertir()"
      ],
      "metadata": {
        "colab": {
          "base_uri": "https://localhost:8080/"
        },
        "id": "qq9bPLS4wwW8",
        "outputId": "5857e33e-0712-4b5c-9786-d49ab6e0250f"
      },
      "execution_count": 42,
      "outputs": [
        {
          "output_type": "stream",
          "name": "stdout",
          "text": [
            "adimoc\n"
          ]
        }
      ]
    },
    {
      "cell_type": "code",
      "source": [
        "def factorial(n): \n",
        "     \n",
        "        fact = 1\n",
        "        while(n > 1): \n",
        "            fact *= n\n",
        "            n -= 1\n",
        "        return fact \n",
        "\n",
        "n=int(input(\"Escribe el número del que deseas saber el factorial \")); \n",
        "\n",
        "print(\"El factorial de\",n,\"es\", factorial(n)) "
      ],
      "metadata": {
        "colab": {
          "base_uri": "https://localhost:8080/"
        },
        "id": "NWoAVfcaxOn0",
        "outputId": "1fdf695a-9e2c-44d5-cd6b-80c5922069a6"
      },
      "execution_count": 41,
      "outputs": [
        {
          "output_type": "stream",
          "name": "stdout",
          "text": [
            "Escribe el número del que deseas saber el factorial 2\n",
            "El factorial de 2 es 2\n"
          ]
        }
      ]
    },
    {
      "cell_type": "code",
      "source": [
        "num=int(input(\"Digita un número\"))\n",
        "def rango(num):\n",
        "  if num<10 and num >0:\n",
        "    print(\"El número está en el rango de 0 a 10\")\n",
        "  else:\n",
        "    print(\"El número no está en el rango de 0 a 10\")\n",
        "rango(num)\n"
      ],
      "metadata": {
        "colab": {
          "base_uri": "https://localhost:8080/"
        },
        "id": "bzB_ZuPqyjxK",
        "outputId": "c1490f1e-a201-4787-d7b7-74d75f167257"
      },
      "execution_count": 46,
      "outputs": [
        {
          "output_type": "stream",
          "name": "stdout",
          "text": [
            "Digita un número2\n",
            "El número está en el rango de 0 a 10\n"
          ]
        }
      ]
    },
    {
      "cell_type": "code",
      "source": [
        "a=int(input(\"Escriba un número\"))\n",
        "b=int(input(\"Escriba un número\"))\n",
        "c=int(input(\"Escriba un número\"))\n",
        "d=int(input(\"Escriba un número\"))\n",
        "listan=[a,b,c,d]\n",
        "def par(a,b,c,d):\n",
        "  if (a%2==0):\n",
        "    print(f\"{a}\")\n",
        "  if (b%2==0):\n",
        "    print(f\"{b}\")\n",
        "  if (c%2==0):\n",
        "    print(f\"{c}\")\n",
        "  if (d%2==0):\n",
        "    print(f\"{d}\")\n",
        "\n",
        "par(a,b,c,d)"
      ],
      "metadata": {
        "colab": {
          "base_uri": "https://localhost:8080/"
        },
        "id": "3_BBDJIB20HT",
        "outputId": "3115eb37-aeae-4b4d-e6f9-c5787b9b774f"
      },
      "execution_count": 54,
      "outputs": [
        {
          "output_type": "stream",
          "name": "stdout",
          "text": [
            "Escriba un número1\n",
            "Escriba un número2\n",
            "Escriba un número3\n",
            "Escriba un número4\n",
            "2\n",
            "4\n"
          ]
        }
      ]
    },
    {
      "cell_type": "code",
      "source": [
        "a=int(input(\"Escriba un número\"))\n",
        "b=int(input(\"Escriba un número\"))\n",
        "c=int(input(\"Escriba un número\"))\n",
        "d=int(input(\"Escriba un número\"))\n",
        "listanu=[a,b,c,d]\n",
        "def posicion(a,b,c,d):\n",
        "  print(f\"{b}\")\n",
        "  print(f\"{d}\")\n",
        "posicion(a,b,c,d)"
      ],
      "metadata": {
        "colab": {
          "base_uri": "https://localhost:8080/"
        },
        "id": "A5Gz0tW120PK",
        "outputId": "bdc1c211-2542-48cd-f5ac-84d7a1bd1e3e"
      },
      "execution_count": 55,
      "outputs": [
        {
          "output_type": "stream",
          "name": "stdout",
          "text": [
            "Escriba un número3\n",
            "Escriba un número4\n",
            "Escriba un número5\n",
            "Escriba un número6\n",
            "4\n",
            "6\n"
          ]
        }
      ]
    },
    {
      "cell_type": "code",
      "source": [
        "usuario = input(\"Digita una oración \")\n",
        "def cambio(usuario):\n",
        "  usuario_title = usuario.title()\n",
        "  print(usuario_title)\n",
        "\n",
        "cambio(usuario)\n"
      ],
      "metadata": {
        "colab": {
          "base_uri": "https://localhost:8080/"
        },
        "id": "5GJQG3PJ6Fqi",
        "outputId": "e8b4af0f-3e69-4394-a1e9-2b12487fe887"
      },
      "execution_count": 64,
      "outputs": [
        {
          "output_type": "stream",
          "name": "stdout",
          "text": [
            "Digita una oraciónquiero comida\n",
            "Quiero Comida\n"
          ]
        }
      ]
    }
  ]
}