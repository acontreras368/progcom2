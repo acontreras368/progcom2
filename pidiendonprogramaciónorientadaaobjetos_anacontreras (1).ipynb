{
  "nbformat": 4,
  "nbformat_minor": 0,
  "metadata": {
    "colab": {
      "provenance": []
    },
    "kernelspec": {
      "name": "python3",
      "display_name": "Python 3"
    },
    "language_info": {
      "name": "python"
    }
  },
  "cells": [
    {
      "cell_type": "markdown",
      "source": [
        "#usuario ingresa los números"
      ],
      "metadata": {
        "id": "CnesLqhS32yv"
      }
    },
    {
      "cell_type": "code",
      "source": [
        "class Fraccion:\n",
        "  num=0\n",
        "  den=1\n",
        "\n",
        "  def __init__(self,num=0,den=1):\n",
        "    self.num=num\n",
        "    self.den=den\n",
        "\n",
        "  def mulltiplica(self,b):\n",
        "    num=self.num*b.num\n",
        "    den=self.den*b.den\n",
        "    r=Fraccion(num,den)\n",
        "    return r\n",
        "  \n",
        "  def suma(self,b):\n",
        "    num=(self.num*b.den)+(b.num*self.den)\n",
        "    den=self.den*b.den\n",
        "    r=Fraccion(num,den)\n",
        "    return r\n",
        "  \n",
        "  \n",
        "  def resta(self,b):\n",
        "    num=(self.num*b.den)-(b.num*self.den)\n",
        "    den=self.den*b.den\n",
        "    r=Fraccion(num,den)\n",
        "    return r\n",
        "\n",
        "  \n",
        "  def division(self,b):\n",
        "    num=(self.num*b.den)\n",
        "    den=b.num*self.den\n",
        "    r=Fraccion(num,den)\n",
        "    return r\n",
        "  \n",
        "  def elevar(self,b):\n",
        "    num=(self.num*self.num)\n",
        "    den=self.den*self.den\n",
        "    r=Fraccion(num,den)\n",
        "    return r\n",
        "  \n",
        "  def elevarr(self,b):\n",
        "    num=(b.num*b.num)\n",
        "    den=b.den*b.den\n",
        "    r=Fraccion(num,den)\n",
        "    return r\n",
        "\n",
        "  def imprime(self):\n",
        "    print(self.num,\"/\",self.den)"
      ],
      "metadata": {
        "id": "4jWWxVeSPlrJ"
      },
      "execution_count": null,
      "outputs": []
    },
    {
      "cell_type": "code",
      "source": [
        "#creando objetos tipo Fracción\n",
        "x=int(input(\"Ingresa el num1: \"))\n",
        "y=int(input(\"Ingresa el den1: \"))\n",
        "\n",
        "n=int(input(\"Ingresa el num2: \"))\n",
        "m=int(input(\"Ingresa el den2: \"))\n",
        "\n",
        "a1=Fraccion(x,y)\n",
        "a2=Fraccion(n,m)\n",
        "\n",
        "\n"
      ],
      "metadata": {
        "id": "p_5LGqkNRQH3",
        "colab": {
          "base_uri": "https://localhost:8080/"
        },
        "outputId": "a91927bf-b6d8-49df-fa0b-5f950c107f26"
      },
      "execution_count": null,
      "outputs": [
        {
          "name": "stdout",
          "output_type": "stream",
          "text": [
            "Ingresa el num1: 2\n",
            "Ingresa el den1: 3\n",
            "Ingresa el num2: 5\n",
            "Ingresa el den2: 7\n"
          ]
        }
      ]
    },
    {
      "cell_type": "code",
      "source": [
        "a1.imprime()\n",
        "a2.imprime()"
      ],
      "metadata": {
        "colab": {
          "base_uri": "https://localhost:8080/"
        },
        "id": "bNqi_imnRoL0",
        "outputId": "529b3886-0bf2-42ce-ad32-441b8ebd7142"
      },
      "execution_count": null,
      "outputs": [
        {
          "output_type": "stream",
          "name": "stdout",
          "text": [
            "2 / 3\n",
            "5 / 7\n"
          ]
        }
      ]
    },
    {
      "cell_type": "code",
      "source": [
        "print(\"La multiplicación es \")\n",
        "c=a1.mulltiplica(a2)\n",
        "c.imprime()\n",
        "print(\"La suma es \")\n",
        "d=a1.suma(a2)\n",
        "d.imprime()\n",
        "print(\"La resta es \")\n",
        "r=a1.resta(a2)\n",
        "r.imprime()\n",
        "print(\"La divisón es \")\n",
        "e=a1.division(a2)\n",
        "e.imprime()\n",
        "print(\"La potencia al cuadrado de la primera fracción es \")\n",
        "p=a1.elevar(a2)\n",
        "p.imprime()\n",
        "print(\"La potencia al cuadrado de la segunda fracción es \")\n",
        "pp=a1.elevarr(a2)\n",
        "pp.imprime()"
      ],
      "metadata": {
        "colab": {
          "base_uri": "https://localhost:8080/"
        },
        "id": "B-9PLD86S7Es",
        "outputId": "94755f00-fbdd-45df-fdee-56b92020b09f"
      },
      "execution_count": null,
      "outputs": [
        {
          "output_type": "stream",
          "name": "stdout",
          "text": [
            "La multiplicación es \n",
            "10 / 21\n",
            "La suma es \n",
            "29 / 21\n",
            "La resta es \n",
            "-1 / 21\n",
            "La divisón es \n",
            "14 / 15\n",
            "La potencia al cuadrado de la primera fracción es \n",
            "4 / 9\n",
            "La potencia al cuadrado de la segunda fracción es \n",
            "25 / 49\n"
          ]
        }
      ]
    },
    {
      "cell_type": "code",
      "source": [
        "type(c)"
      ],
      "metadata": {
        "colab": {
          "base_uri": "https://localhost:8080/"
        },
        "id": "Ipe4lEghUi5z",
        "outputId": "a325f0d0-a9bf-4090-e94c-69bfa0f9e88e"
      },
      "execution_count": null,
      "outputs": [
        {
          "output_type": "execute_result",
          "data": {
            "text/plain": [
              "__main__.Fraccion"
            ]
          },
          "metadata": {},
          "execution_count": 11
        }
      ]
    }
  ]
}