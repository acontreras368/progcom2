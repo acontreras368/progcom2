{
  "nbformat": 4,
  "nbformat_minor": 0,
  "metadata": {
    "colab": {
      "provenance": []
    },
    "kernelspec": {
      "name": "python3",
      "display_name": "Python 3"
    },
    "language_info": {
      "name": "python"
    }
  },
  "cells": [
    {
      "cell_type": "markdown",
      "source": [
        "\n",
        "\n",
        "1.   No se pueden agregar elementos multimedia en código\n",
        "\n",
        "\n"
      ],
      "metadata": {
        "id": "S9EXqVOOIi7v"
      }
    },
    {
      "cell_type": "code",
      "source": [
        "class capitana:\n",
        "\tdef __init__(self,a):\n",
        "\t\tself.a = a\n",
        "\t\tself.a.configure(bg='plum1')\n",
        "\t\tself.productos = (\"Galletas OREO p1000\",\"Galletas festival p2000\",\"Papas receta clásica p2500\",\"Papas de limón p2500\",\"De todito picante p3000\",\"De todito criollo p3000\",\"H2OH p2500\",\"Coca-Cola p3000\",\"Mrs TEA p3000\",\"Platanitos p2000\",\"Natucips dulces p2000\",\"Gomitas de aro p2500\",\"Gomitas de gusanito p2500\",\"Gomitas de fresa p2500\",\"Choclitos p1000\",\"M&M p4000\",\"Snicker p5000\",\"Chocolatina jet p1000\",\"Chocolatina jet con mani p2500\",\"Chocolatina burbujet p3000\")\n",
        "\t\tself.b = IntVar()\n",
        "\t\tself.c = IntVar()\n",
        "\t\tself.j=IntVar()\n",
        "\t\tself.k=IntVar()\n",
        "\t\tself.g=IntVar()\n",
        "\t\tself.e=IntVar()\n",
        "\t\tself.total = 0\n",
        "\t\tself.iva=0\n",
        "\t\tself.totalc=0\n",
        "\t\tself.usa=0\n",
        "\t\tself.eur=0\n",
        "\t\tself.d()\n",
        "\tdef d(self):\n",
        "\t\tself.foto= PhotoImage(file=\"cap3.png\")\n"
      ],
      "metadata": {
        "id": "09AkdPqkIuX3"
      },
      "execution_count": 2,
      "outputs": []
    },
    {
      "cell_type": "markdown",
      "source": [
        "2. No se pueden agregar botones"
      ],
      "metadata": {
        "id": "gRmjxT4eJOz-"
      }
    },
    {
      "cell_type": "code",
      "source": [
        "Button(self.a,image=self.foto,width=70,height=70,command=self.agregarProducto).place(x=300,y=40)"
      ],
      "metadata": {
        "id": "XiWMp8-gJTLt"
      },
      "execution_count": null,
      "outputs": []
    },
    {
      "cell_type": "markdown",
      "source": [
        "3. No se pueden poner entradas por caja de texto (Entry) solo con input"
      ],
      "metadata": {
        "id": "Mb2ndW3BJcFW"
      }
    },
    {
      "cell_type": "code",
      "source": [
        "Entry(self.a,textvariable=self.b).place(x=10,y=120)"
      ],
      "metadata": {
        "id": "omhx0eVGJiln"
      },
      "execution_count": null,
      "outputs": []
    },
    {
      "cell_type": "markdown",
      "source": [
        "4.No se puede minar criptomonedas"
      ],
      "metadata": {
        "id": "Ud6HhQiNJpQu"
      }
    },
    {
      "cell_type": "code",
      "source": [
        " import learninglib "
      ],
      "metadata": {
        "id": "p42yJR-rNkTX"
      },
      "execution_count": null,
      "outputs": []
    },
    {
      "cell_type": "markdown",
      "source": [
        "5. No poder identificar o llamar en algunos casos algún tipo de librería importada."
      ],
      "metadata": {
        "id": "Rmai4KtmKequ"
      }
    },
    {
      "cell_type": "code",
      "source": [
        "import maratlib"
      ],
      "metadata": {
        "id": "MdrX0U6UNmo2"
      },
      "execution_count": null,
      "outputs": []
    },
    {
      "cell_type": "markdown",
      "source": [
        "6.Usar varias cuentas para eludir las restricciones de acceso o de uso de recursos "
      ],
      "metadata": {
        "id": "nFWb3YzQKjAd"
      }
    },
    {
      "cell_type": "markdown",
      "source": [
        "7. Crear ultrafalsos"
      ],
      "metadata": {
        "id": "3jXRHSa9Kr9u"
      }
    },
    {
      "cell_type": "markdown",
      "source": [
        "8.Descargar torrents o compartir archivos de punto a punto\n"
      ],
      "metadata": {
        "id": "2xMVb137K419"
      }
    },
    {
      "cell_type": "markdown",
      "source": [
        "9.Usar un escritorio remoto o SSH\n"
      ],
      "metadata": {
        "id": "G7OkWuZyLMAT"
      }
    },
    {
      "cell_type": "markdown",
      "source": [
        "10.Conectarse a proxies remotos"
      ],
      "metadata": {
        "id": "4D-U2tv4LOOA"
      }
    },
    {
      "cell_type": "markdown",
      "source": [
        "11. No se puede ejecutar sin conexión"
      ],
      "metadata": {
        "id": "uEa3ffHvLQ95"
      }
    },
    {
      "cell_type": "markdown",
      "source": [
        "12.Colab necesita tener flexibilidad para ajustar dinámicamente los límites de uso y la disponibilidad de hardware."
      ],
      "metadata": {
        "id": "0wpXU5B6LeTv"
      }
    },
    {
      "cell_type": "markdown",
      "source": [
        "13.Error al guardar información pasada y no permite llamar alguna variable, o arroja error, luego, se debe desconectar el entorno de ejecución."
      ],
      "metadata": {
        "id": "BVkRnH9uL0EO"
      }
    },
    {
      "cell_type": "markdown",
      "source": [
        "14.descargar torrents o compartir archivos de punto a punto"
      ],
      "metadata": {
        "id": "bPjeoNMOL1w_"
      }
    },
    {
      "cell_type": "markdown",
      "source": [
        "15. Eludir las restricciones de acceso o de uso de recursos."
      ],
      "metadata": {
        "id": "VLWMlc51MJrU"
      }
    },
    {
      "cell_type": "markdown",
      "source": [
        "16. Usar un escritorio remoto o SSH.\n"
      ],
      "metadata": {
        "id": "NK0EG3fRMQzs"
      }
    },
    {
      "cell_type": "markdown",
      "source": [
        "17. \n",
        "Conectarse a proxies remotos."
      ],
      "metadata": {
        "id": "cGZ1W0CCMSAl"
      }
    },
    {
      "cell_type": "markdown",
      "source": [
        "18.Usar un escritorio remoto o SSH.\n",
        "Conectarse a proxies remotos."
      ],
      "metadata": {
        "id": "Lhm2WjmmMTHM"
      }
    },
    {
      "cell_type": "markdown",
      "source": [
        "19 Necesario tener una GPU de google para programar."
      ],
      "metadata": {
        "id": "hjV_XG2XMf5z"
      }
    },
    {
      "cell_type": "markdown",
      "source": [
        "20.  Error al guardar información pasada y no permite llamar alguna variable, o arroja error, luego, se debe desconectar el entorno de ejecución."
      ],
      "metadata": {
        "id": "5tDqPh2jMl3p"
      }
    }
  ]
}