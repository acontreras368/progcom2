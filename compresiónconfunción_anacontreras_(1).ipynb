{
  "nbformat": 4,
  "nbformat_minor": 0,
  "metadata": {
    "colab": {
      "provenance": [],
      "collapsed_sections": []
    },
    "kernelspec": {
      "name": "python3",
      "display_name": "Python 3"
    },
    "language_info": {
      "name": "python"
    }
  },
  "cells": [
    {
      "cell_type": "code",
      "source": [
        "#lambda\n",
        "print(\"¡Hola! Soy Lucía del sistema de asignación de turnos para pasaporte de la Gobernación \\n Solo las personas mayores de edad tendrán su cita mañana en el rango de 6am a 12 pm \\n y los menores de edad la tendrán en el rango de 2pm a 6pm \\n \" )\n",
        "personas=[('Pedro',33),('Ana',3),('Juan',13),('Carla',45)]\n",
        "perma=list(filter(lambda may: may[1]>=18,personas ))\n",
        "perma\n",
        "print(f'{perma} tendrán la cita a las 8am y 10am respectivamente')\n",
        "\n",
        "perme=list(filter(lambda men: men[1]<18,personas ))\n",
        "perme\n",
        "print(f'{perme} tendrán la cita a las 2pm y 4pm respectivamente')"
      ],
      "metadata": {
        "colab": {
          "base_uri": "https://localhost:8080/"
        },
        "id": "V_BVka63Aox8",
        "outputId": "6720741c-7b0d-4659-e15c-35397147d17e"
      },
      "execution_count": null,
      "outputs": [
        {
          "output_type": "stream",
          "name": "stdout",
          "text": [
            "¡Hola! Soy Lucía del sistema de asignación de turnos para pasaporte de la Gobernación \n",
            " Solo las personas mayores de edad tendrán su cita mañana en el rango de 6am a 12 pm \n",
            " y los menores de edad la tendrán en el rango de 2pm a 6pm \n",
            " \n",
            "[('Pedro', 33), ('Carla', 45)] tendrán la cita a las 8am y 10am respectivamente\n",
            "[('Ana', 3), ('Juan', 13)] tendrán la cita a las 2pm y 4pm respectivamente\n"
          ]
        }
      ]
    },
    {
      "cell_type": "code",
      "source": [
        "#normal\n",
        "print(\"¡Hola! Soy Lucía del sistema de asignación de turnos para pasaporte de la Gobernación \\n Solo las personas mayores de edad tendrán su cita mañana en el rango de 6am a 12 pm \\n y los menores de edad la tendrán en el rango de 2pm a 6pm \\n \" )\n",
        "lista1=[('Pedro',33),('Ana',3),('Juan',13),('Carla',45)]\n",
        "lista2=[]\n",
        "lista3=[]\n",
        "for elemento in lista1:\n",
        "  if elemento[1]>=18:\n",
        "    lista2.append(elemento)\n",
        "print(f'{lista2} tendrán la cita a las 8am y 10am respectivamente')\n",
        "\n",
        "for elemento in lista1:\n",
        "  if elemento[1]<18:\n",
        "    lista3.append(elemento)\n",
        "print(f'{lista3} tendrán la cita a las 2pm y 4pm respectivamente')\n"
      ],
      "metadata": {
        "colab": {
          "base_uri": "https://localhost:8080/"
        },
        "id": "qRAUA1voylPG",
        "outputId": "cab6ec41-b862-44a1-e85d-ac5e88ed7801"
      },
      "execution_count": 6,
      "outputs": [
        {
          "output_type": "stream",
          "name": "stdout",
          "text": [
            "¡Hola! Soy Lucía del sistema de asignación de turnos para pasaporte de la Gobernación \n",
            " Solo las personas mayores de edad tendrán su cita mañana en el rango de 6am a 12 pm \n",
            " y los menores de edad la tendrán en el rango de 2pm a 6pm \n",
            " \n",
            "[('Pedro', 33), ('Carla', 45)] tendrán la cita a las 8am y 10am respectivamente\n",
            "[('Ana', 3), ('Juan', 13)] tendrán la cita a las 2pm y 4pm respectivamente\n"
          ]
        }
      ]
    },
    {
      "cell_type": "code",
      "source": [
        "#compresión\n",
        "print(\"¡Hola! Soy Lucía del sistema de asignación de turnos para pasaporte de la Gobernación \\n Solo las personas mayores de edad tendrán su cita mañana en el rango de 6am a 12 pm \\n y los menores de edad la tendrán en el rango de 2pm a 6pm \\n \" )\n",
        "personas=[('Pedro',33),('Ana',3),('Juan',13),('Carla',45)]\n",
        "\n",
        "\n",
        "personas_mayores=[per for per in personas if per[1]>=18]\n",
        "print(f'{personas_mayores} tendrán la cita a las 8am y 10am respectivamente')\n",
        "\n",
        "personas_menores=[per for per in personas if per[1]<18]\n",
        "print(f'{personas_menores} tendrán la cita a las 2pm y 4pm respectivamente')\n"
      ],
      "metadata": {
        "id": "U6smwew_ynvd"
      },
      "execution_count": null,
      "outputs": []
    },
    {
      "cell_type": "code",
      "source": [
        "números=[ n for n  in range (1,9)]\n",
        "n2=list(map(lambda n:n*2,números))\n",
        "n2"
      ],
      "metadata": {
        "colab": {
          "base_uri": "https://localhost:8080/"
        },
        "id": "fQzK6pGc9dj5",
        "outputId": "4581b387-6c9c-44f5-cbe8-4d4806194547"
      },
      "execution_count": null,
      "outputs": [
        {
          "output_type": "execute_result",
          "data": {
            "text/plain": [
              "[2, 4, 6, 8, 10, 12, 14, 16]"
            ]
          },
          "metadata": {},
          "execution_count": 3
        }
      ]
    },
    {
      "cell_type": "code",
      "source": [
        "número=[2,5,6,9,10]\n",
        "cuadrados=[n for n in número]\n",
        "cuadrados=list(map(lambda n:n**2,número))\n",
        "cuadrados"
      ],
      "metadata": {
        "colab": {
          "base_uri": "https://localhost:8080/"
        },
        "id": "vecR4LqUApgJ",
        "outputId": "be731ac3-61d2-48c1-e561-c69410d859d9"
      },
      "execution_count": null,
      "outputs": [
        {
          "output_type": "execute_result",
          "data": {
            "text/plain": [
              "[4, 25, 36, 81, 100]"
            ]
          },
          "metadata": {},
          "execution_count": 4
        }
      ]
    },
    {
      "cell_type": "code",
      "source": [
        "cadena=\"python\"\n",
        "def ejerc3(letra):\n",
        "  return letra\n",
        "letras=[ ejerc3(letra) for letra in cadena]\n",
        "print(letras)"
      ],
      "metadata": {
        "colab": {
          "base_uri": "https://localhost:8080/"
        },
        "id": "jP7nZgZRBkp3",
        "outputId": "385ca577-ed23-4fe5-bad6-80b576d4f888"
      },
      "execution_count": null,
      "outputs": [
        {
          "output_type": "stream",
          "name": "stdout",
          "text": [
            "['p', 'y', 't', 'h', 'o', 'n']\n"
          ]
        }
      ]
    },
    {
      "cell_type": "code",
      "source": [
        "x=input(\"Ingrese la palabra que desee: \")\n",
        "def mostrar(n):\n",
        "  return n\n",
        "lista=[mostrar(n) for n in x]\n",
        "print(lista)"
      ],
      "metadata": {
        "colab": {
          "base_uri": "https://localhost:8080/"
        },
        "id": "6Y_x6CE7CoJN",
        "outputId": "441b6eea-edbd-4597-f048-ecf3cf17d405"
      },
      "execution_count": null,
      "outputs": [
        {
          "output_type": "stream",
          "name": "stdout",
          "text": [
            "Ingrese la palabra que desee: comida\n",
            "['c', 'o', 'm', 'i', 'd', 'a']\n"
          ]
        }
      ]
    },
    {
      "cell_type": "code",
      "source": [
        "lista1=[2,7,10,9,8]\n",
        "def mostrar2(elementos):\n",
        "  return elementos**2\n",
        "lista2=[mostrar2(elementos) for elementos in lista1 if elementos%2==0 ]\n",
        "print(\"nueva lista\",lista2)"
      ],
      "metadata": {
        "colab": {
          "base_uri": "https://localhost:8080/"
        },
        "id": "iIj-HpcpC9ur",
        "outputId": "15a47598-aa3c-46a9-8707-7d69d0c89c52"
      },
      "execution_count": null,
      "outputs": [
        {
          "output_type": "stream",
          "name": "stdout",
          "text": [
            "nueva lista [4, 100, 64]\n"
          ]
        }
      ]
    },
    {
      "cell_type": "code",
      "source": [
        "import random \n",
        "def capitan(i):\n",
        "  return random.randrange(1,30)\n",
        "capitan=[capitan(i) for i in range(9)]\n",
        "print(\"Imprimir números aleatorios de la lista: \",str(capitan))"
      ],
      "metadata": {
        "colab": {
          "base_uri": "https://localhost:8080/"
        },
        "id": "ZtHXKUc0DtEJ",
        "outputId": "f204a08d-c86e-4ab2-c1db-660e6599e021"
      },
      "execution_count": null,
      "outputs": [
        {
          "output_type": "stream",
          "name": "stdout",
          "text": [
            "Imprimir números aleatorios de la lista:  [26, 17, 11, 27, 7, 28, 19, 8, 7]\n"
          ]
        }
      ]
    },
    {
      "cell_type": "code",
      "source": [
        "precios=[]\n",
        "print('ingrese los números de los que quieres hacer un descuento')\n",
        "det=True\n",
        "while det:\n",
        "  num=int (input('sino desea agregar mas números digite 0'))\n",
        "  precios.append(num)\n",
        "  det= False if num==0 else num>0\n",
        "des=float(input('ingrese el descuento sin el %'))\n",
        "\n",
        "def jp(precio):\n",
        "  return precio*des/100\n",
        "presdes=[jp(precio) for precio in precios]\n",
        "presdes.pop(-1)\n",
        "print('este es el valor a restar',presdes) "
      ],
      "metadata": {
        "colab": {
          "base_uri": "https://localhost:8080/"
        },
        "id": "cgZec4vwD70E",
        "outputId": "20ef8344-b130-42a1-f07a-7e7aeb15ee21"
      },
      "execution_count": null,
      "outputs": [
        {
          "output_type": "stream",
          "name": "stdout",
          "text": [
            "ingrese los números de los que quieres hacer un descuento\n",
            "sino desea agregar mas números digite 012\n",
            "sino desea agregar mas números digite 012\n",
            "sino desea agregar mas números digite 012\n",
            "sino desea agregar mas números digite 00\n",
            "ingrese el descuento sin el %50\n",
            "este es el valor a restar [6.0, 6.0, 6.0]\n"
          ]
        }
      ]
    },
    {
      "cell_type": "code",
      "source": [
        "\n",
        "#tradicional\n",
        "n=int(input(\"Ingresa el n de palabras que quieres ingresar\"))\n",
        "\n",
        "lista=[]\n",
        "lista1=[]\n",
        "for i in range(n):\n",
        "  l=input(\"Ingresa una palabra\")\n",
        "  if l.isupper():lista.append(l)\n",
        "  if l.islower():lista1.append(l)\n",
        "print(lista)\n",
        "print(lista1)"
      ],
      "metadata": {
        "colab": {
          "base_uri": "https://localhost:8080/"
        },
        "id": "AS2GPvf_wgG9",
        "outputId": "d47426ba-c08b-410e-aeb5-e12c8e9f8397"
      },
      "execution_count": 5,
      "outputs": [
        {
          "output_type": "stream",
          "name": "stdout",
          "text": [
            "Ingresa el n de palabras que quieres ingresar3\n",
            "Ingresa una palabraana\n",
            "Ingresa una palabrassofia\n",
            "Ingresa una palabraana\n",
            "[]\n",
            "['ana', 'ssofia', 'ana']\n"
          ]
        }
      ]
    },
    {
      "cell_type": "code",
      "source": [
        "#compresión\n",
        "n=int(input(\"Ingresa el n de palabras que quieres ingresar\"))\n",
        "lista3=[]\n",
        "\n",
        "for i in range (n):\n",
        "  l=input(\"Ingresa la palabra\")\n",
        "  lista3.append(l)\n",
        "lista_comprimida_M=[elemento for elemento in lista3 if elemento.isupper()]\n",
        "lista_comprimida_m=[elemento for elemento in lista3 if elemento.islower()]\n",
        "print(\"Las mayúsculas son\")\n",
        "print(lista_comprimida_M)\n",
        "print(\"Las minúsculas son\")\n",
        "print(lista_comprimida_m)"
      ],
      "metadata": {
        "colab": {
          "base_uri": "https://localhost:8080/"
        },
        "id": "qxR0qLpj03ON",
        "outputId": "8f26946b-8dd8-46a6-bf78-050d712a8adf"
      },
      "execution_count": 11,
      "outputs": [
        {
          "output_type": "stream",
          "name": "stdout",
          "text": [
            "Ingresa el n de palabras que quieres ingresar2\n",
            "Ingresa la palabraANA\n",
            "Ingresa la palabraana\n",
            "Las mayúsculas son\n",
            "['ANA']\n",
            "Las minúsculas son\n",
            "['ana']\n"
          ]
        }
      ]
    },
    {
      "cell_type": "code",
      "source": [
        "#función\n",
        "n=int(input(\"Ingresa el n de palabras que quieres ingresar\"))\n",
        "lista3=[]\n",
        "for i in range (n):\n",
        "  l=input(\"Ingresa la palabra\")\n",
        "lista_comprimida_M=list((map(lambda element:True if elemento.isupper()else False,lista3)))\n",
        "lista_comprimida_m=list((map(lambda element:True if elemento.islower()else False,lista3)))\n",
        "print(\"Las mayúsculas son\")\n",
        "print(lista_comprimida_M)\n",
        "print(\"Las minúsculas son\")\n",
        "print(lista_comprimida_m)"
      ],
      "metadata": {
        "colab": {
          "base_uri": "https://localhost:8080/"
        },
        "id": "Jnv4AqxT27rt",
        "outputId": "8ed62cdf-835a-42a3-a181-1c794804cb7b"
      },
      "execution_count": 19,
      "outputs": [
        {
          "output_type": "stream",
          "name": "stdout",
          "text": [
            "Ingresa el n de palabras que quieres ingresar3\n",
            "Ingresa la palabraANA\n",
            "Ingresa la palabraana\n",
            "Ingresa la palabraCamilo\n",
            "Las mayúsculas son\n",
            "[]\n",
            "Las minúsculas son\n",
            "[]\n"
          ]
        }
      ]
    },
    {
      "cell_type": "code",
      "source": [
        "#tradicional\n",
        "P=str(input(\"Digita una palabra \"))\n",
        "rev= P[::-1]\n",
        "\n",
        "if (P==rev):\n",
        "  print(P, \"si es una palabra palíndromo\")\n",
        "else:\n",
        "  print(P,\"no es una palabra palíndromo\")  "
      ],
      "metadata": {
        "colab": {
          "base_uri": "https://localhost:8080/"
        },
        "id": "_2pstSuH8hOr",
        "outputId": "92f21f4a-13bb-48f3-cd4b-9b9b0316665b"
      },
      "execution_count": 20,
      "outputs": [
        {
          "output_type": "stream",
          "name": "stdout",
          "text": [
            "Digita una palabra ana\n",
            "ana si es una palabra palíndromo\n"
          ]
        }
      ]
    },
    {
      "cell_type": "code",
      "source": [
        "#lambda\n",
        "c=int(input(\"Digita la cantidad de elementos que deseas ingresar: \"))\n",
        "lista1=[]\n",
        "for i in range(c):\n",
        "  word=str(input(\"Escribe aquí: \")).lower()\n",
        "  lista1.append(word)\n",
        "print(lista1)\n",
        "lista2=list((map(lambda x:True if x==x[::-1] else False, lista1))) #use map para que realizara la función para cada elemento de la lista #use list para que no me muestre el objeto\n",
        "lista2"
      ],
      "metadata": {
        "colab": {
          "base_uri": "https://localhost:8080/"
        },
        "id": "DT9mPJ7G-STj",
        "outputId": "453a7d9c-164f-472b-9b4f-69904fa88c4f"
      },
      "execution_count": 21,
      "outputs": [
        {
          "output_type": "stream",
          "name": "stdout",
          "text": [
            "Digita la cantidad de elementos que deseas ingresar: 2\n",
            "Escribe aquí: ana\n",
            "Escribe aquí: camilo\n",
            "['ana', 'camilo']\n"
          ]
        },
        {
          "output_type": "execute_result",
          "data": {
            "text/plain": [
              "[True, False]"
            ]
          },
          "metadata": {},
          "execution_count": 21
        }
      ]
    },
    {
      "cell_type": "code",
      "source": [
        "#compresión\n",
        "c=int(input(\"Digita la cantidad de elementos que deseas ingresar: \"))\n",
        "a=0\n",
        "lista1=[]\n",
        "for i in range (c):\n",
        "  word=str(input(\"Escribe aquí: \")).lower()\n",
        "  lista1.append(word)\n",
        "print(lista1)\n",
        "lista2=[x for x in lista1 if x==x[::-1]]\n",
        "print(\"Palabras Palíndromo\",lista2)"
      ],
      "metadata": {
        "colab": {
          "base_uri": "https://localhost:8080/"
        },
        "id": "92l6FqZx-gzS",
        "outputId": "c6699ce5-c746-4e5c-b0cc-734965824cc3"
      },
      "execution_count": 22,
      "outputs": [
        {
          "output_type": "stream",
          "name": "stdout",
          "text": [
            "Digita la cantidad de elementos que deseas ingresar: 2\n",
            "Escribe aquí: ana\n",
            "Escribe aquí: camilo\n",
            "['ana', 'camilo']\n",
            "Palabras Palíndromo ['ana']\n"
          ]
        }
      ]
    },
    {
      "cell_type": "code",
      "source": [
        "#C O M P R E S I O N\n",
        "import random\n",
        "stock=['martillo','alicate','audifonos','martillo']\n",
        "cality=['GOOD','FAIL']\n",
        "a=[]\n",
        "\n",
        "for i in stock:\n",
        "  a.append((i,random.choice(cality)))\n",
        "listg=[]\n",
        "listf=[]\n",
        "listg = [x for x in a if 'GOOD' in x]\n",
        "listf= [x for x in a if 'FAIL' in x]\n",
        "print(listg,listf)"
      ],
      "metadata": {
        "colab": {
          "base_uri": "https://localhost:8080/"
        },
        "id": "CbseqoCh-mvG",
        "outputId": "e0ba9539-ec71-448a-b1b9-c88c81c47f49"
      },
      "execution_count": 27,
      "outputs": [
        {
          "output_type": "stream",
          "name": "stdout",
          "text": [
            "[('martillo', 'GOOD'), ('alicate', 'GOOD'), ('audifonos', 'GOOD')] [('martillo', 'FAIL')]\n"
          ]
        }
      ]
    },
    {
      "cell_type": "code",
      "source": [
        "# N O R M A L\n",
        "import random\n",
        "stock=[\"martillo\",\"alicate\"]\n",
        "cality=['GOOD','FAIL']\n",
        "a=[]\n",
        "\n",
        "for i in stock:\n",
        "  a.append((i,random.choice(cality)))\n",
        "print(a)\n",
        "listg=[]\n",
        "listf=[]\n",
        "for x in a:\n",
        "  if 'GOOD' in x:\n",
        "    listg.append(x)\n",
        "    print(listg)\n",
        "  elif 'FAIL' in x:\n",
        "    listf.append(x)\n",
        "    print(listf)"
      ],
      "metadata": {
        "colab": {
          "base_uri": "https://localhost:8080/"
        },
        "id": "D4rPNcCjKtZl",
        "outputId": "64996c26-e45f-4b13-d5f5-65e707eb74c8"
      },
      "execution_count": 26,
      "outputs": [
        {
          "output_type": "stream",
          "name": "stdout",
          "text": [
            "[('martillo', 'GOOD'), ('alicate', 'GOOD')]\n",
            "[('martillo', 'GOOD')]\n",
            "[('martillo', 'GOOD'), ('alicate', 'GOOD')]\n"
          ]
        }
      ]
    },
    {
      "cell_type": "code",
      "source": [
        "import random\n",
        "x=input(\"Ingrese la palabra o relación que desea la contraseña\")\n",
        "palabra = [letra for letra in x]\n",
        "números =[num for num in range (0,10)]\n",
        "generador=[random.choice(números) or random.choice(palabra) for num in range(0,11)]\n",
        "print(generador)"
      ],
      "metadata": {
        "colab": {
          "base_uri": "https://localhost:8080/"
        },
        "id": "wjJ9VNlaKvfE",
        "outputId": "ec8e6b39-f907-4f6a-d6b5-c7916e3e4a2a"
      },
      "execution_count": 25,
      "outputs": [
        {
          "output_type": "stream",
          "name": "stdout",
          "text": [
            "Ingrese la palabra o relación que desea la contraseñaana\n",
            "[8, 5, 2, 5, 8, 6, 6, 6, 8, 6, 5]\n"
          ]
        }
      ]
    },
    {
      "cell_type": "code",
      "source": [
        "import random\n",
        "x=input(\"Ingrese la palabra o relación que desea la contraseña\")\n",
        "palabras = [letra for letra in x]\n",
        "numeros =[num for num in range (0,10)]\n",
        "generador=[random.choice(list(map(lambda x:x,numeros))) or random.choice(sorted(palabras, key=lambda letra:letra in palabras)) for num in range(0,11)]\n",
        "print(generador)\n",
        "\n"
      ],
      "metadata": {
        "colab": {
          "base_uri": "https://localhost:8080/"
        },
        "id": "T98_lTHVK1aE",
        "outputId": "b4cd187e-1ecf-4043-a093-4478b47ee1bd"
      },
      "execution_count": 24,
      "outputs": [
        {
          "output_type": "stream",
          "name": "stdout",
          "text": [
            "Ingrese la palabra o relación que desea la contraseñaana\n",
            "[8, 1, 8, 4, 7, 5, 3, 4, 6, 2, 1]\n"
          ]
        }
      ]
    },
    {
      "cell_type": "code",
      "source": [
        "import random \n",
        "palabras = [\"a\", \"e\",\"i\",\"o\",\"u\"]\n",
        "numeros =[1,2,3,4,5,6,7,8,9]\n",
        "generador=[]\n",
        "for i in range(0,5):\n",
        " generador.append(random.choice(palabras))\n",
        " generador.append(random.choice(numeros))\n",
        "print(generador)"
      ],
      "metadata": {
        "colab": {
          "base_uri": "https://localhost:8080/"
        },
        "id": "E-8YiH2FK3D8",
        "outputId": "518fc806-91e3-4065-a6d4-16a92e2adf3a"
      },
      "execution_count": 23,
      "outputs": [
        {
          "output_type": "stream",
          "name": "stdout",
          "text": [
            "['a', 9, 'e', 5, 'e', 7, 'e', 8, 'i', 2]\n"
          ]
        }
      ]
    }
  ]
}