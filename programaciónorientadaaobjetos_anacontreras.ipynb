{
  "nbformat": 4,
  "nbformat_minor": 0,
  "metadata": {
    "colab": {
      "provenance": []
    },
    "kernelspec": {
      "name": "python3",
      "display_name": "Python 3"
    },
    "language_info": {
      "name": "python"
    }
  },
  "cells": [
    {
      "cell_type": "code",
      "source": [
        "class Empleado():\n",
        "  def __init__(self,nombre,edad,id,salario):\n",
        "    self.nombre=nombre\n",
        "    self.edad=edad\n",
        "    self.id=id\n",
        "    self.salario=salario"
      ],
      "metadata": {
        "id": "yTWmxQQ5HJW_"
      },
      "execution_count": null,
      "outputs": []
    },
    {
      "cell_type": "markdown",
      "source": [
        "#POO\n",
        "Clase es como un mole\n",
        "\n",
        "*Variables-->Atributos\n",
        "*Funciones-->Métodos\n",
        "*Constructor---> constituye una clase\n",
        "*Objetos: comparten atributos, métodos, relaciones que tienen una identidad propia"
      ],
      "metadata": {
        "id": "FWsJS6qTD_PO"
      }
    },
    {
      "cell_type": "code",
      "source": [
        "class Mascotas():\n",
        "  pass"
      ],
      "metadata": {
        "id": "V7QFWJTmEbHG"
      },
      "execution_count": 1,
      "outputs": []
    },
    {
      "cell_type": "code",
      "source": [
        "a=Mascotas\n",
        "b=Mascotas"
      ],
      "metadata": {
        "id": "gx3jz9e7FAD1"
      },
      "execution_count": 4,
      "outputs": []
    },
    {
      "cell_type": "code",
      "source": [
        "if a==b:\n",
        "  print(\"Son iguanitos\")\n",
        "else:\n",
        "  print(\"No son iguanitos\")"
      ],
      "metadata": {
        "colab": {
          "base_uri": "https://localhost:8080/"
        },
        "id": "e9fB1EA_GQq_",
        "outputId": "e0709132-dfff-41a2-b7d2-a365c873a59d"
      },
      "execution_count": 5,
      "outputs": [
        {
          "output_type": "stream",
          "name": "stdout",
          "text": [
            "Son iguanitos\n"
          ]
        }
      ]
    },
    {
      "cell_type": "code",
      "source": [
        "class Empleado():\n",
        "  #construyeno un constructor\n",
        "  def __init__(self,nombre,edad,ID,salario):\n",
        "    self.nombre=nombre\n",
        "    self.edad=edad\n",
        "    self.ID=ID\n",
        "    self.salario=salario\n",
        "  def __repr__(self):\n",
        "    return f\"nombre:{sonia.nombre}, edad:{self.edad},ID:{self.ID},salario={self.salario}\""
      ],
      "metadata": {
        "id": "T9cXlcB4GxGo"
      },
      "execution_count": 20,
      "outputs": []
    },
    {
      "cell_type": "code",
      "source": [
        "sonia=Empleado(\"Sonia\",25,\"U00152314\",10000000)"
      ],
      "metadata": {
        "id": "3HI7gPGWHmxI"
      },
      "execution_count": 21,
      "outputs": []
    },
    {
      "cell_type": "code",
      "source": [
        "print(sonia)"
      ],
      "metadata": {
        "colab": {
          "base_uri": "https://localhost:8080/"
        },
        "id": "BhHxrDG_H8tw",
        "outputId": "878b5854-4c3f-4245-b495-258f89fe1882"
      },
      "execution_count": 22,
      "outputs": [
        {
          "output_type": "stream",
          "name": "stdout",
          "text": [
            "nombre:Sonia, edad:25,ID:U00152314,salario=10000000\n"
          ]
        }
      ]
    },
    {
      "cell_type": "code",
      "source": [
        "sonia.nombre"
      ],
      "metadata": {
        "colab": {
          "base_uri": "https://localhost:8080/",
          "height": 36
        },
        "id": "y0B-QhY9IQ5m",
        "outputId": "e7e15ab4-8020-4eb7-a8c3-60d0d1749359"
      },
      "execution_count": 10,
      "outputs": [
        {
          "output_type": "execute_result",
          "data": {
            "text/plain": [
              "'Sonia'"
            ],
            "application/vnd.google.colaboratory.intrinsic+json": {
              "type": "string"
            }
          },
          "metadata": {},
          "execution_count": 10
        }
      ]
    },
    {
      "cell_type": "code",
      "source": [
        "sonia.__dict__"
      ],
      "metadata": {
        "colab": {
          "base_uri": "https://localhost:8080/"
        },
        "id": "p4JOUDHDIb-3",
        "outputId": "b413c51a-a221-498a-ed65-6226cccd7578"
      },
      "execution_count": 11,
      "outputs": [
        {
          "output_type": "execute_result",
          "data": {
            "text/plain": [
              "{'nombre': 'Sonia', 'edad': 25, 'ID': 'U00152314', 'salario': 10000000}"
            ]
          },
          "metadata": {},
          "execution_count": 11
        }
      ]
    },
    {
      "cell_type": "code",
      "source": [
        "madaniel=Empleado(\"Pirulais\",83,\"U001512345\",1000000)\n"
      ],
      "metadata": {
        "id": "ed_bVF3eNpca"
      },
      "execution_count": 23,
      "outputs": []
    },
    {
      "cell_type": "code",
      "source": [
        "if sonia.salario==madaniel.salario:\n",
        "  print(f\"El salario de {madaniel.nombre} y {sonia.nombre} son iguales\")\n",
        "elif sonia.salario>madaniel.salario:\n",
        "  print(f\"El salario de {madaniel.nombre} es menor al de {sonia.nombre}\")\n",
        "else:\n",
        "  print(f\"El salario de {madaniel.nombre} es mayor al de {sonia.nombre}\")\n"
      ],
      "metadata": {
        "colab": {
          "base_uri": "https://localhost:8080/"
        },
        "id": "_v0FsZCYN31f",
        "outputId": "c35da51c-3638-4419-ce01-e240fc035fb8"
      },
      "execution_count": 25,
      "outputs": [
        {
          "output_type": "stream",
          "name": "stdout",
          "text": [
            "El salario de Pirulais es menor al de Sonia\n"
          ]
        }
      ]
    },
    {
      "cell_type": "code",
      "source": [
        "class Fraccion:\n",
        "  num=0\n",
        "  den=1\n",
        "\n",
        "  def __init__(self,num=0,den=1):\n",
        "    self.num=num\n",
        "    self.den=den\n",
        "\n",
        "  def mulltiplica(self,b):\n",
        "    num=self.num*b.num\n",
        "    den=self.den*b.den\n",
        "    r=Fraccion(num,den)\n",
        "    return r\n",
        "\n",
        "  def imprime(self):\n",
        "    print(self.num,\"/\",self.den)"
      ],
      "metadata": {
        "id": "4jWWxVeSPlrJ"
      },
      "execution_count": 49,
      "outputs": []
    },
    {
      "cell_type": "code",
      "source": [
        "#creando objetos tipo Fracción\n",
        "\n",
        "a1=Fraccion(4,5)\n",
        "a2=Fraccion(8,9)"
      ],
      "metadata": {
        "id": "p_5LGqkNRQH3"
      },
      "execution_count": 50,
      "outputs": []
    },
    {
      "cell_type": "code",
      "source": [
        "a1.imprime()\n",
        "a2.imprime()"
      ],
      "metadata": {
        "colab": {
          "base_uri": "https://localhost:8080/"
        },
        "id": "bNqi_imnRoL0",
        "outputId": "b38434c1-0f77-43a9-c6c1-fc29badc38ae"
      },
      "execution_count": 51,
      "outputs": [
        {
          "output_type": "stream",
          "name": "stdout",
          "text": [
            "4 / 5\n",
            "8 / 9\n"
          ]
        }
      ]
    },
    {
      "cell_type": "code",
      "source": [
        "c=a1.mulltiplica(a2)\n",
        "c.imprime()"
      ],
      "metadata": {
        "colab": {
          "base_uri": "https://localhost:8080/"
        },
        "id": "B-9PLD86S7Es",
        "outputId": "192c926c-2dcc-491b-9dca-c22580a2dfba"
      },
      "execution_count": 52,
      "outputs": [
        {
          "output_type": "stream",
          "name": "stdout",
          "text": [
            "32 / 45\n"
          ]
        }
      ]
    },
    {
      "cell_type": "code",
      "source": [
        "type(c)"
      ],
      "metadata": {
        "colab": {
          "base_uri": "https://localhost:8080/"
        },
        "id": "Ipe4lEghUi5z",
        "outputId": "de84d88d-86f8-4fee-d6f3-dd6d11b5fc5b"
      },
      "execution_count": 48,
      "outputs": [
        {
          "output_type": "execute_result",
          "data": {
            "text/plain": [
              "NoneType"
            ]
          },
          "metadata": {},
          "execution_count": 48
        }
      ]
    }
  ]
}