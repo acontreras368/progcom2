{
  "nbformat": 4,
  "nbformat_minor": 0,
  "metadata": {
    "colab": {
      "provenance": [],
      "collapsed_sections": []
    },
    "kernelspec": {
      "name": "python3",
      "display_name": "Python 3"
    },
    "language_info": {
      "name": "python"
    }
  },
  "cells": [
    {
      "cell_type": "code",
      "execution_count": null,
      "metadata": {
        "id": "1YnZw0EfGFUz"
      },
      "outputs": [],
      "source": [
        "class Humano():\n",
        "  def __init__(self,nombre,edad,cuerpo,piernas,brazos,ojos,cabello,nariz,color_piel):\n",
        "    self.nombre=nombre\n",
        "    self.edad=edad\n",
        "    self.cuerpo=cuerpo\n",
        "    self.piernas=piernas\n",
        "    self.brazos=brazos\n",
        "    self.ojos=ojos\n",
        "    self.cabello=cabello\n",
        "    self.nariz=nariz\n",
        "    self.color_piel=color_piel\n",
        "  def caminar(self,aceleracion,velocidad):\n",
        "    if velocidad>0.5 and velocidad<1:\n",
        "      return f\"{self.nombre} está gateando\"\n",
        "    if velocidad>2 and velocidad<4:\n",
        "      return f\"{self.nombre} está caminando\"    \n",
        "    if velocidad>=5 and velocidad<7:\n",
        "      return f\"{self.nombre} está trotando\"\n",
        "    if velocidad>=7 and velocidad<10:\n",
        "      return f\"{self.nombre} está corriendo\"\n",
        "    if velocidad>=1 and velocidad<2:\n",
        "      return f\"{self.nombre} está cojeando\"\n",
        "    else:\n",
        "      return f\"{self.nombre} está trotando\"\n",
        "\n",
        "  def comer(self,saciedad):\n",
        "    if saciedad==0:\n",
        "      return f\"{self.nombre} tengo hambre\"\n",
        "    if saciedad>0 and saciedad<1:\n",
        "      return f\"{self.nombre} sigo con hambre pero no tanto\"\n",
        "    if saciedad>=1 and saciedad<1:\n",
        "      return f\"{self.nombre} estoy algo saciado\"\n",
        "    if saciedad>=2 and saciedad<4:\n",
        "      return f\"{self.nombre} estoy bien\"\n",
        "    else:\n",
        "      return f\"{self.nombre} estoy lleno bien\"\n",
        "\n",
        "  def novio(self,amor):\n",
        "    if amor==0:\n",
        "      return f\"{self.nombre} no está enamorado\"\n",
        "    if amor>0 and amor<1:\n",
        "      return f\"{self.nombre} empezó a sentir alguito\"\n",
        "    if amor>=1 and amor<1:\n",
        "      return f\"{self.nombre} empezó a sentir algo mas fuerte\"\n",
        "    if amor>=2 and amor<4:\n",
        "      return f\"{self.nombre} está enamorado\"\n",
        "    else:\n",
        "      return f\"{self.nombre} no siente nada\""
      ]
    },
    {
      "cell_type": "code",
      "source": [
        "class Sayayin():\n",
        "  def __init__(self, nombre, cabello, ojos, fuerza,estatura, cola_de_mono):\n",
        "    self.cabello=\"negro\"\n",
        "    self.ojos=\"negro\"\n",
        "    self.fuerza=fuerza\n",
        "    self.estatura=estatura\n",
        "    self.cola_de_mono=True\n",
        "    self.nombre=nombre\n",
        "\n",
        "  def color_cabello(self,fuerza_base):\n",
        "    fuerza_t=90000\n",
        "    if fuerza_base*10>=fuerza_t:\n",
        "      print(\"Alcanza nivel sayayin fase 1\")\n",
        "      self.cabello=\"rubio\"\n",
        "    elif fuerza_base*10>=fuerza_t*20:\n",
        "      print(\"Alcanza nivel sayayin fase 2\")\n",
        "      self.cabello=\"rubio\"\n",
        "    elif fuerza_base*1000>=fuerza_t*1000:\n",
        "      print(\"Alcanza nivel sayayin fase 4\")\n",
        "      self.cabello=\"negro\"\n",
        "    elif self.cola==False:\n",
        "        self.cola=True\n",
        "    else:\n",
        "      print(\"Alcanza nivel sayayin ultrainstinto\")\n",
        "      self.cabello=\"cenizo\"\n",
        "  def trabajo(self,trabajo):\n",
        "    if trabajo==1:\n",
        "      print(f\"{self.nombre} es de tipo guerrero\")\n",
        "    elif trabajo==2:\n",
        "      print(f\"{self.nombre} es de tipo liendra de freezer\")\n",
        "    elif trabajo==3:\n",
        "      print(f\"{self.nombre} es de tipo mercenarios\")\n",
        "    else:\n",
        "      print(f\"{self.nombre} es de la realeza\")    \n",
        "\n",
        "  def  luna(self,luna):\n",
        "    if self.cola and luna==\"luna llena\":\n",
        "      print(self.nombre, \"se convierte en ozaru\")\n",
        "      self.fuerza=self.fuerza*50\n",
        "    else:\n",
        "      print(self.nombre, \"no se transforma en nada\")\n",
        "      \n"
      ],
      "metadata": {
        "id": "9WD_Db8wJU4C"
      },
      "execution_count": 14,
      "outputs": []
    },
    {
      "cell_type": "code",
      "source": [
        "class Humanito():\n",
        "  def __init__(self, nombre, cabello, ojos, fuerza,estatura):\n",
        "    self.cabello=cabello\n",
        "    self.ojos=ojos\n",
        "    self.fuerza=fuerza\n",
        "    self.estatura=estatura\n",
        "    self.nombre=nombre\n",
        "   \n",
        "\n",
        "  def color_cabello(self,tinte):\n",
        "    if tinte==0:\n",
        "      print(self.nombre, \"ha decolorado su cabellito\")\n",
        "      self.cabello=\"amarillo\"\n",
        "    elif tinte==2:\n",
        "      print(self.nombre, \"ha decolorado su cabello de lila\")\n",
        "      self.cabello=\"lila\"\n",
        "    elif tinte==3:\n",
        "      print(self.nombre, \"ha decolorado su cabello de nuez\")\n",
        "      self.cabello=\"nuez\"\n",
        "    else:\n",
        "      print(self.nombre, \"ha decolorado su cabello canoso\")\n",
        "      self.cabello=\"canoso\"\n",
        "\n",
        "  def trabajo(self,trabajo):\n",
        "    if trabajo==1:\n",
        "      print(f\"{self.nombre} trabaja como callcenter\")\n",
        "    elif trabajo==2:\n",
        "      print(f\"{self.nombre} trabaja como vendedor de bonice\")\n",
        "    elif trabajo==3:\n",
        "      print(f\"{self.nombre} trabaja como tombo\")\n",
        "    elif trabajo==4:\n",
        "      print(f\"{self.nombre} trabaja como tombo\")    \n",
        "    else:\n",
        "      print(f\"{self.nombre} mantenido\")\n",
        "      "
      ],
      "metadata": {
        "id": "_dax5Kr7OX-C"
      },
      "execution_count": 15,
      "outputs": []
    },
    {
      "cell_type": "code",
      "source": [
        "class Hibrido(Sayayin,Humanito):\n",
        "  pass\n",
        "  "
      ],
      "metadata": {
        "id": "vkO0UWYRSKoH"
      },
      "execution_count": 16,
      "outputs": []
    },
    {
      "cell_type": "code",
      "source": [
        "goku=Sayayin(\"Kakaroto\",\"arcoíris\",\"verde-dorado\",100,500,True)\n",
        "goku.__dict__"
      ],
      "metadata": {
        "colab": {
          "base_uri": "https://localhost:8080/"
        },
        "id": "st_8edSlSnbo",
        "outputId": "81df7698-e732-4a81-a9b0-0c7e2bac96af"
      },
      "execution_count": 17,
      "outputs": [
        {
          "output_type": "execute_result",
          "data": {
            "text/plain": [
              "{'cabello': 'negro',\n",
              " 'ojos': 'negro',\n",
              " 'fuerza': 100,\n",
              " 'estatura': 500,\n",
              " 'cola_de_mono': True,\n",
              " 'nombre': 'Kakaroto'}"
            ]
          },
          "metadata": {},
          "execution_count": 17
        }
      ]
    },
    {
      "cell_type": "code",
      "source": [
        "milk=Humanito(\"Milk\",\"negros\",\"negros\",100,50)\n",
        "milk.__dict__"
      ],
      "metadata": {
        "colab": {
          "base_uri": "https://localhost:8080/"
        },
        "id": "4_CAfYDeTHo9",
        "outputId": "4c28324a-48e7-464e-a3f0-29755845be01"
      },
      "execution_count": 18,
      "outputs": [
        {
          "output_type": "execute_result",
          "data": {
            "text/plain": [
              "{'cabello': 'negros',\n",
              " 'ojos': 'negros',\n",
              " 'fuerza': 100,\n",
              " 'estatura': 50,\n",
              " 'nombre': 'Milk'}"
            ]
          },
          "metadata": {},
          "execution_count": 18
        }
      ]
    },
    {
      "cell_type": "code",
      "source": [
        "gohan=Hibrido(\"Gohan\", \"negro\", \"aguamarina\",1000,50,True)"
      ],
      "metadata": {
        "id": "7kGgrO91VXMg"
      },
      "execution_count": 19,
      "outputs": []
    },
    {
      "cell_type": "code",
      "source": [
        "gohan.trabajo(4)\n",
        "print(gohan.trabajo(4))"
      ],
      "metadata": {
        "colab": {
          "base_uri": "https://localhost:8080/"
        },
        "id": "9I1CFPJjVyJg",
        "outputId": "11fd275d-4477-4aa7-919d-319508ed13ea"
      },
      "execution_count": 20,
      "outputs": [
        {
          "output_type": "stream",
          "name": "stdout",
          "text": [
            "Gohan es de la realeza\n",
            "Gohan es de la realeza\n",
            "None\n"
          ]
        }
      ]
    }
  ]
}
